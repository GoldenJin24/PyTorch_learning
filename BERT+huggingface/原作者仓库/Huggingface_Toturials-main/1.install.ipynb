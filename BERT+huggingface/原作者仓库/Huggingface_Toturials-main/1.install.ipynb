{
 "cells": [
  {
   "cell_type": "code",
   "execution_count": 1,
   "id": "48469796",
   "metadata": {},
   "outputs": [
    {
     "data": {
      "text/plain": [
       "'3.9.19 (main, May  6 2024, 20:12:36) [MSC v.1916 64 bit (AMD64)]'"
      ]
     },
     "execution_count": 1,
     "metadata": {},
     "output_type": "execute_result"
    }
   ],
   "source": [
    "#环境\n",
    "#python=3.6\n",
    "\n",
    "import sys\n",
    "import numpy as np\n",
    "sys.version"
   ]
  },
  {
   "cell_type": "code",
   "execution_count": 3,
   "id": "7ced42f3",
   "metadata": {},
   "outputs": [
    {
     "data": {
      "text/plain": [
       "('1.13.1+cpu', '0.14.1+cpu', '0.13.1+cpu')"
      ]
     },
     "execution_count": 3,
     "metadata": {},
     "output_type": "execute_result"
    }
   ],
   "source": [
    "#安装torch,简单起见,避免环境问题,并且计算量不大,使用cpu运行本套代码.\n",
    "#后面章节会介绍使用cuda计算的方法.\n",
    "\n",
    "#pip install torch==1.10.1+cpu torchvision==0.11.2+cpu torchaudio==0.10.1 -f https://download.pytorch.org/whl/cpu/torch_stable.html\n",
    "\n",
    "import torch\n",
    "import torchvision\n",
    "import torchaudio\n",
    "torch.__version__,torchvision.__version__, torchaudio.__version__"
   ]
  },
  {
   "cell_type": "code",
   "execution_count": 4,
   "id": "c01fc811",
   "metadata": {},
   "outputs": [
    {
     "data": {
      "text/plain": [
       "'4.41.2'"
      ]
     },
     "execution_count": 4,
     "metadata": {},
     "output_type": "execute_result"
    }
   ],
   "source": [
    "#安装transformers\n",
    "#pip安装\n",
    "#pip install transformers==4.18.0\n",
    "\n",
    "#conda安装(不推荐)\n",
    "#conda install -c huggingface transformers\n",
    "\n",
    "import transformers\n",
    "\n",
    "transformers.__version__"
   ]
  },
  {
   "cell_type": "code",
   "execution_count": 5,
   "id": "8e7adbd4",
   "metadata": {},
   "outputs": [
    {
     "data": {
      "text/plain": [
       "'2.20.0'"
      ]
     },
     "execution_count": 5,
     "metadata": {},
     "output_type": "execute_result"
    }
   ],
   "source": [
    "#安装datasets\n",
    "#pip安装\n",
    "#pip install datasets==2.4.0\n",
    "\n",
    "#conda安装(不推荐)\n",
    "#conda install -c huggingface -c conda-forge datasets\n",
    "\n",
    "import datasets\n",
    "\n",
    "datasets.__version__"
   ]
  },
  {
   "cell_type": "code",
   "execution_count": 6,
   "id": "805c1c8d",
   "metadata": {},
   "outputs": [
    {
     "ename": "ModuleNotFoundError",
     "evalue": "No module named 'torchtext'",
     "output_type": "error",
     "traceback": [
      "\u001b[1;31m---------------------------------------------------------------------------\u001b[0m",
      "\u001b[1;31mModuleNotFoundError\u001b[0m                       Traceback (most recent call last)",
      "Cell \u001b[1;32mIn[6], line 4\u001b[0m\n\u001b[0;32m      1\u001b[0m \u001b[38;5;66;03m#安装torchtext\u001b[39;00m\n\u001b[0;32m      2\u001b[0m \u001b[38;5;66;03m#pip install torchtext==0.11.2\u001b[39;00m\n\u001b[1;32m----> 4\u001b[0m \u001b[38;5;28;01mimport\u001b[39;00m \u001b[38;5;21;01mtorchtext\u001b[39;00m\n\u001b[0;32m      6\u001b[0m torchtext\u001b[38;5;241m.\u001b[39m__version__\n",
      "\u001b[1;31mModuleNotFoundError\u001b[0m: No module named 'torchtext'"
     ]
    }
   ],
   "source": [
    "#安装torchtext\n",
    "#pip install torchtext==0.11.2\n",
    "\n",
    "import torchtext\n",
    "\n",
    "torchtext.__version__"
   ]
  },
  {
   "cell_type": "code",
   "execution_count": 16,
   "id": "e2a477ae",
   "metadata": {},
   "outputs": [
    {
     "name": "stdout",
     "output_type": "stream",
     "text": [
      "Looking in indexes: https://pypi.tuna.tsinghua.edu.cn/simple\n",
      "Requirement already satisfied: huggingface_hub in d:\\workplaces\\miniconda_py39\\envs\\pytorch_env\\lib\\site-packages\\huggingface_hub-0.23.4-py3.8.egg (0.23.4)\n",
      "Requirement already satisfied: filelock in d:\\workplaces\\miniconda_py39\\envs\\pytorch_env\\lib\\site-packages (from huggingface_hub) (3.13.1)\n",
      "Requirement already satisfied: fsspec>=2023.5.0 in d:\\workplaces\\miniconda_py39\\envs\\pytorch_env\\lib\\site-packages (from huggingface_hub) (2024.3.1)\n",
      "Requirement already satisfied: packaging>=20.9 in d:\\workplaces\\miniconda_py39\\envs\\pytorch_env\\lib\\site-packages (from huggingface_hub) (24.1)\n",
      "Requirement already satisfied: pyyaml>=5.1 in d:\\workplaces\\miniconda_py39\\envs\\pytorch_env\\lib\\site-packages (from huggingface_hub) (6.0.1)\n",
      "Requirement already satisfied: requests in d:\\workplaces\\miniconda_py39\\envs\\pytorch_env\\lib\\site-packages (from huggingface_hub) (2.32.2)\n",
      "Requirement already satisfied: tqdm>=4.42.1 in d:\\workplaces\\miniconda_py39\\envs\\pytorch_env\\lib\\site-packages (from huggingface_hub) (4.66.4)\n",
      "Requirement already satisfied: typing-extensions>=3.7.4.3 in d:\\workplaces\\miniconda_py39\\envs\\pytorch_env\\lib\\site-packages (from huggingface_hub) (4.11.0)\n",
      "Requirement already satisfied: colorama in d:\\workplaces\\miniconda_py39\\envs\\pytorch_env\\lib\\site-packages (from tqdm>=4.42.1->huggingface_hub) (0.4.6)\n",
      "Requirement already satisfied: charset-normalizer<4,>=2 in d:\\workplaces\\miniconda_py39\\envs\\pytorch_env\\lib\\site-packages (from requests->huggingface_hub) (2.0.4)\n",
      "Requirement already satisfied: idna<4,>=2.5 in d:\\workplaces\\miniconda_py39\\envs\\pytorch_env\\lib\\site-packages (from requests->huggingface_hub) (3.7)\n",
      "Requirement already satisfied: urllib3<3,>=1.21.1 in d:\\workplaces\\miniconda_py39\\envs\\pytorch_env\\lib\\site-packages (from requests->huggingface_hub) (2.2.2)\n",
      "Requirement already satisfied: certifi>=2017.4.17 in d:\\workplaces\\miniconda_py39\\envs\\pytorch_env\\lib\\site-packages (from requests->huggingface_hub) (2024.6.2)\n"
     ]
    }
   ],
   "source": [
    "import sys\n",
    "!{sys.executable} -m pip install huggingface_hub"
   ]
  }
 ],
 "metadata": {
  "kernelspec": {
   "display_name": "Python 3",
   "language": "python",
   "name": "python3"
  },
  "language_info": {
   "codemirror_mode": {
    "name": "ipython",
    "version": 3
   },
   "file_extension": ".py",
   "mimetype": "text/x-python",
   "name": "python",
   "nbconvert_exporter": "python",
   "pygments_lexer": "ipython3",
   "version": "3.9.19"
  }
 },
 "nbformat": 4,
 "nbformat_minor": 5
}
