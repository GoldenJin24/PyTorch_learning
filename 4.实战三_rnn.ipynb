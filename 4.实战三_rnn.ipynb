{
 "cells": [
  {
   "cell_type": "code",
   "execution_count": 1,
   "metadata": {},
   "outputs": [
    {
     "name": "stdout",
     "output_type": "stream",
     "text": [
      "2.2.1\n"
     ]
    }
   ],
   "source": [
    "import torch\n",
    "print(torch.__version__)"
   ]
  },
  {
   "cell_type": "code",
   "execution_count": null,
   "metadata": {},
   "outputs": [],
   "source": [
    "# superb   每个音频1s，说了一个单词；一共10类\n",
    "# SST2  x为15个字，y为0或1；经典的二分类任务\n"
   ]
  },
  {
   "cell_type": "markdown",
   "metadata": {},
   "source": [
    "## 总结\n",
    "- 第一种方法从一个矩阵，到更宽更胖的矩阵，通过pool降维，和CNN很像，中途没有把h拿出来用 torch.nn.RNN(),主要是特征维度变多\n",
    "\n",
    "\n",
    "\n",
    "- 第二种方法明确我们需要的是最后一个h，而不是全部的h。torch.nn.GRUCell(),后面的前向过程是有一个for循环\n",
    "```\n",
    "#从前向后读句子中的每一个词\n",
    "for i in range(x.shape[1]):\n",
    "    h = self.cell(x[:,i],h)\n",
    "```"
   ]
  }
 ],
 "metadata": {
  "kernelspec": {
   "display_name": "Python 3",
   "language": "python",
   "name": "python3"
  },
  "language_info": {
   "codemirror_mode": {
    "name": "ipython",
    "version": 3
   },
   "file_extension": ".py",
   "mimetype": "text/x-python",
   "name": "python",
   "nbconvert_exporter": "python",
   "pygments_lexer": "ipython3",
   "version": "3.8.19"
  }
 },
 "nbformat": 4,
 "nbformat_minor": 2
}
